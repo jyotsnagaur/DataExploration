{
 "cells": [
  {
   "cell_type": "code",
   "execution_count": 1,
   "id": "d9647e52",
   "metadata": {},
   "outputs": [],
   "source": [
    "import pandas as pd\n",
    "import numpy as np\n",
    "\n",
    "world = pd.read_csv(\"world_population.csv\")"
   ]
  },
  {
   "cell_type": "code",
   "execution_count": 2,
   "id": "a2cce3cf",
   "metadata": {},
   "outputs": [
    {
     "data": {
      "text/html": [
       "<div>\n",
       "<style scoped>\n",
       "    .dataframe tbody tr th:only-of-type {\n",
       "        vertical-align: middle;\n",
       "    }\n",
       "\n",
       "    .dataframe tbody tr th {\n",
       "        vertical-align: top;\n",
       "    }\n",
       "\n",
       "    .dataframe thead th {\n",
       "        text-align: right;\n",
       "    }\n",
       "</style>\n",
       "<table border=\"1\" class=\"dataframe\">\n",
       "  <thead>\n",
       "    <tr style=\"text-align: right;\">\n",
       "      <th></th>\n",
       "      <th>Rank</th>\n",
       "      <th>CCA3</th>\n",
       "      <th>Country</th>\n",
       "      <th>Capital</th>\n",
       "      <th>Continent</th>\n",
       "      <th>2022 Population</th>\n",
       "      <th>2020 Population</th>\n",
       "      <th>2015 Population</th>\n",
       "      <th>2010 Population</th>\n",
       "      <th>2000 Population</th>\n",
       "      <th>1990 Population</th>\n",
       "      <th>1980 Population</th>\n",
       "      <th>1970 Population</th>\n",
       "      <th>Area (km²)</th>\n",
       "      <th>Density (per km²)</th>\n",
       "      <th>Growth Rate</th>\n",
       "      <th>World Population Percentage</th>\n",
       "    </tr>\n",
       "  </thead>\n",
       "  <tbody>\n",
       "    <tr>\n",
       "      <th>0</th>\n",
       "      <td>36</td>\n",
       "      <td>AFG</td>\n",
       "      <td>Afghanistan</td>\n",
       "      <td>Kabul</td>\n",
       "      <td>Asia</td>\n",
       "      <td>41128771.0</td>\n",
       "      <td>38972230.0</td>\n",
       "      <td>33753499.0</td>\n",
       "      <td>28189672.0</td>\n",
       "      <td>19542982.0</td>\n",
       "      <td>10694796.0</td>\n",
       "      <td>12486631.0</td>\n",
       "      <td>10752971.0</td>\n",
       "      <td>652230.0</td>\n",
       "      <td>63.0587</td>\n",
       "      <td>1.0257</td>\n",
       "      <td>0.52</td>\n",
       "    </tr>\n",
       "    <tr>\n",
       "      <th>1</th>\n",
       "      <td>138</td>\n",
       "      <td>ALB</td>\n",
       "      <td>Albania</td>\n",
       "      <td>Tirana</td>\n",
       "      <td>Europe</td>\n",
       "      <td>2842321.0</td>\n",
       "      <td>2866849.0</td>\n",
       "      <td>2882481.0</td>\n",
       "      <td>2913399.0</td>\n",
       "      <td>3182021.0</td>\n",
       "      <td>3295066.0</td>\n",
       "      <td>2941651.0</td>\n",
       "      <td>2324731.0</td>\n",
       "      <td>28748.0</td>\n",
       "      <td>98.8702</td>\n",
       "      <td>0.9957</td>\n",
       "      <td>0.04</td>\n",
       "    </tr>\n",
       "    <tr>\n",
       "      <th>2</th>\n",
       "      <td>34</td>\n",
       "      <td>DZA</td>\n",
       "      <td>Algeria</td>\n",
       "      <td>Algiers</td>\n",
       "      <td>Africa</td>\n",
       "      <td>44903225.0</td>\n",
       "      <td>43451666.0</td>\n",
       "      <td>39543154.0</td>\n",
       "      <td>35856344.0</td>\n",
       "      <td>30774621.0</td>\n",
       "      <td>25518074.0</td>\n",
       "      <td>18739378.0</td>\n",
       "      <td>13795915.0</td>\n",
       "      <td>2381741.0</td>\n",
       "      <td>18.8531</td>\n",
       "      <td>1.0164</td>\n",
       "      <td>0.56</td>\n",
       "    </tr>\n",
       "    <tr>\n",
       "      <th>3</th>\n",
       "      <td>213</td>\n",
       "      <td>ASM</td>\n",
       "      <td>American Samoa</td>\n",
       "      <td>Pago Pago</td>\n",
       "      <td>Oceania</td>\n",
       "      <td>44273.0</td>\n",
       "      <td>46189.0</td>\n",
       "      <td>51368.0</td>\n",
       "      <td>54849.0</td>\n",
       "      <td>58230.0</td>\n",
       "      <td>47818.0</td>\n",
       "      <td>32886.0</td>\n",
       "      <td>27075.0</td>\n",
       "      <td>199.0</td>\n",
       "      <td>222.4774</td>\n",
       "      <td>0.9831</td>\n",
       "      <td>0.00</td>\n",
       "    </tr>\n",
       "    <tr>\n",
       "      <th>4</th>\n",
       "      <td>203</td>\n",
       "      <td>AND</td>\n",
       "      <td>Andorra</td>\n",
       "      <td>Andorra la Vella</td>\n",
       "      <td>Europe</td>\n",
       "      <td>79824.0</td>\n",
       "      <td>77700.0</td>\n",
       "      <td>71746.0</td>\n",
       "      <td>71519.0</td>\n",
       "      <td>66097.0</td>\n",
       "      <td>53569.0</td>\n",
       "      <td>35611.0</td>\n",
       "      <td>19860.0</td>\n",
       "      <td>468.0</td>\n",
       "      <td>170.5641</td>\n",
       "      <td>1.0100</td>\n",
       "      <td>0.00</td>\n",
       "    </tr>\n",
       "  </tbody>\n",
       "</table>\n",
       "</div>"
      ],
      "text/plain": [
       "   Rank CCA3         Country           Capital Continent  2022 Population  \\\n",
       "0    36  AFG     Afghanistan             Kabul      Asia       41128771.0   \n",
       "1   138  ALB         Albania            Tirana    Europe        2842321.0   \n",
       "2    34  DZA         Algeria           Algiers    Africa       44903225.0   \n",
       "3   213  ASM  American Samoa         Pago Pago   Oceania          44273.0   \n",
       "4   203  AND         Andorra  Andorra la Vella    Europe          79824.0   \n",
       "\n",
       "   2020 Population  2015 Population  2010 Population  2000 Population  \\\n",
       "0       38972230.0       33753499.0       28189672.0       19542982.0   \n",
       "1        2866849.0        2882481.0        2913399.0        3182021.0   \n",
       "2       43451666.0       39543154.0       35856344.0       30774621.0   \n",
       "3          46189.0          51368.0          54849.0          58230.0   \n",
       "4          77700.0          71746.0          71519.0          66097.0   \n",
       "\n",
       "   1990 Population  1980 Population  1970 Population  Area (km²)  \\\n",
       "0       10694796.0       12486631.0       10752971.0    652230.0   \n",
       "1        3295066.0        2941651.0        2324731.0     28748.0   \n",
       "2       25518074.0       18739378.0       13795915.0   2381741.0   \n",
       "3          47818.0          32886.0          27075.0       199.0   \n",
       "4          53569.0          35611.0          19860.0       468.0   \n",
       "\n",
       "   Density (per km²)  Growth Rate  World Population Percentage  \n",
       "0            63.0587       1.0257                         0.52  \n",
       "1            98.8702       0.9957                         0.04  \n",
       "2            18.8531       1.0164                         0.56  \n",
       "3           222.4774       0.9831                         0.00  \n",
       "4           170.5641       1.0100                         0.00  "
      ]
     },
     "execution_count": 2,
     "metadata": {},
     "output_type": "execute_result"
    }
   ],
   "source": [
    "world.head()\n"
   ]
  },
  {
   "cell_type": "code",
   "execution_count": 4,
   "id": "038b826d",
   "metadata": {},
   "outputs": [
    {
     "data": {
      "text/plain": [
       "3453"
      ]
     },
     "execution_count": 4,
     "metadata": {},
     "output_type": "execute_result"
    }
   ],
   "source": [
    "unique_values=world.stack().nunique()\n",
    "unique_values"
   ]
  },
  {
   "cell_type": "code",
   "execution_count": 5,
   "id": "1f7a0e6e",
   "metadata": {},
   "outputs": [
    {
     "name": "stdout",
     "output_type": "stream",
     "text": [
      "<class 'pandas.core.frame.DataFrame'>\n",
      "RangeIndex: 234 entries, 0 to 233\n",
      "Data columns (total 17 columns):\n",
      " #   Column                       Non-Null Count  Dtype  \n",
      "---  ------                       --------------  -----  \n",
      " 0   Rank                         234 non-null    int64  \n",
      " 1   CCA3                         234 non-null    object \n",
      " 2   Country                      234 non-null    object \n",
      " 3   Capital                      234 non-null    object \n",
      " 4   Continent                    234 non-null    object \n",
      " 5   2022 Population              230 non-null    float64\n",
      " 6   2020 Population              233 non-null    float64\n",
      " 7   2015 Population              230 non-null    float64\n",
      " 8   2010 Population              227 non-null    float64\n",
      " 9   2000 Population              227 non-null    float64\n",
      " 10  1990 Population              229 non-null    float64\n",
      " 11  1980 Population              229 non-null    float64\n",
      " 12  1970 Population              230 non-null    float64\n",
      " 13  Area (km²)                   232 non-null    float64\n",
      " 14  Density (per km²)            230 non-null    float64\n",
      " 15  Growth Rate                  232 non-null    float64\n",
      " 16  World Population Percentage  234 non-null    float64\n",
      "dtypes: float64(12), int64(1), object(4)\n",
      "memory usage: 31.2+ KB\n"
     ]
    }
   ],
   "source": [
    "world.info()"
   ]
  },
  {
   "cell_type": "code",
   "execution_count": 10,
   "id": "b29f655d",
   "metadata": {},
   "outputs": [
    {
     "data": {
      "text/plain": [
       "'China'"
      ]
     },
     "execution_count": 10,
     "metadata": {},
     "output_type": "execute_result"
    }
   ],
   "source": [
    "population_columns=['2022 Population','2020 Population','2015 Population','2010 Population','2000 Population']\n",
    "world['total_5']=world[population_columns].sum(axis=1)\n",
    "country_max=world.loc[world['total_5'].idxmax()]['Country']\n",
    "country_max"
   ]
  },
  {
   "cell_type": "code",
   "execution_count": 11,
   "id": "f75dd6e2",
   "metadata": {},
   "outputs": [
    {
     "data": {
      "text/plain": [
       "0.9994919243030731"
      ]
     },
     "execution_count": 11,
     "metadata": {},
     "output_type": "execute_result"
    }
   ],
   "source": [
    "world['2015 Population'].corr(world['2022 Population'])"
   ]
  },
  {
   "cell_type": "code",
   "execution_count": 13,
   "id": "19494316",
   "metadata": {},
   "outputs": [
    {
     "data": {
      "text/html": [
       "<div>\n",
       "<style scoped>\n",
       "    .dataframe tbody tr th:only-of-type {\n",
       "        vertical-align: middle;\n",
       "    }\n",
       "\n",
       "    .dataframe tbody tr th {\n",
       "        vertical-align: top;\n",
       "    }\n",
       "\n",
       "    .dataframe thead th {\n",
       "        text-align: right;\n",
       "    }\n",
       "</style>\n",
       "<table border=\"1\" class=\"dataframe\">\n",
       "  <thead>\n",
       "    <tr style=\"text-align: right;\">\n",
       "      <th></th>\n",
       "      <th>2022 Population</th>\n",
       "      <th>2020 Population</th>\n",
       "      <th>2015 Population</th>\n",
       "      <th>2010 Population</th>\n",
       "      <th>2000 Population</th>\n",
       "      <th>1990 Population</th>\n",
       "      <th>1980 Population</th>\n",
       "      <th>1970 Population</th>\n",
       "      <th>World Population Percentage</th>\n",
       "    </tr>\n",
       "    <tr>\n",
       "      <th>Continent</th>\n",
       "      <th></th>\n",
       "      <th></th>\n",
       "      <th></th>\n",
       "      <th></th>\n",
       "      <th></th>\n",
       "      <th></th>\n",
       "      <th></th>\n",
       "      <th></th>\n",
       "      <th></th>\n",
       "    </tr>\n",
       "  </thead>\n",
       "  <tbody>\n",
       "    <tr>\n",
       "      <th>Africa</th>\n",
       "      <td>2.545588e+07</td>\n",
       "      <td>2.387144e+07</td>\n",
       "      <td>2.141970e+07</td>\n",
       "      <td>1.889820e+07</td>\n",
       "      <td>1.459837e+07</td>\n",
       "      <td>1.137696e+07</td>\n",
       "      <td>8.586032e+06</td>\n",
       "      <td>6.567175e+06</td>\n",
       "      <td>0.313509</td>\n",
       "    </tr>\n",
       "    <tr>\n",
       "      <th>Asia</th>\n",
       "      <td>9.632739e+07</td>\n",
       "      <td>9.495513e+07</td>\n",
       "      <td>8.916500e+07</td>\n",
       "      <td>8.908777e+07</td>\n",
       "      <td>8.058084e+07</td>\n",
       "      <td>4.864000e+07</td>\n",
       "      <td>4.027833e+07</td>\n",
       "      <td>4.383988e+07</td>\n",
       "      <td>1.183800</td>\n",
       "    </tr>\n",
       "    <tr>\n",
       "      <th>Europe</th>\n",
       "      <td>1.505537e+07</td>\n",
       "      <td>1.491584e+07</td>\n",
       "      <td>1.502745e+07</td>\n",
       "      <td>1.471228e+07</td>\n",
       "      <td>1.481769e+07</td>\n",
       "      <td>1.478520e+07</td>\n",
       "      <td>1.420000e+07</td>\n",
       "      <td>1.311848e+07</td>\n",
       "      <td>0.186600</td>\n",
       "    </tr>\n",
       "    <tr>\n",
       "      <th>North America</th>\n",
       "      <td>1.500740e+07</td>\n",
       "      <td>1.485591e+07</td>\n",
       "      <td>1.425960e+07</td>\n",
       "      <td>1.356802e+07</td>\n",
       "      <td>1.215174e+07</td>\n",
       "      <td>1.053166e+07</td>\n",
       "      <td>9.207334e+06</td>\n",
       "      <td>7.885865e+06</td>\n",
       "      <td>0.187750</td>\n",
       "    </tr>\n",
       "    <tr>\n",
       "      <th>Oceania</th>\n",
       "      <td>2.046386e+06</td>\n",
       "      <td>1.910149e+06</td>\n",
       "      <td>1.756664e+06</td>\n",
       "      <td>1.613164e+06</td>\n",
       "      <td>1.357512e+06</td>\n",
       "      <td>1.162775e+06</td>\n",
       "      <td>9.965322e+05</td>\n",
       "      <td>8.469683e+05</td>\n",
       "      <td>0.023913</td>\n",
       "    </tr>\n",
       "    <tr>\n",
       "      <th>South America</th>\n",
       "      <td>3.120119e+07</td>\n",
       "      <td>3.082357e+07</td>\n",
       "      <td>2.950960e+07</td>\n",
       "      <td>2.678940e+07</td>\n",
       "      <td>2.501589e+07</td>\n",
       "      <td>2.122474e+07</td>\n",
       "      <td>1.727064e+07</td>\n",
       "      <td>1.378194e+07</td>\n",
       "      <td>0.391429</td>\n",
       "    </tr>\n",
       "  </tbody>\n",
       "</table>\n",
       "</div>"
      ],
      "text/plain": [
       "               2022 Population  2020 Population  2015 Population  \\\n",
       "Continent                                                          \n",
       "Africa            2.545588e+07     2.387144e+07     2.141970e+07   \n",
       "Asia              9.632739e+07     9.495513e+07     8.916500e+07   \n",
       "Europe            1.505537e+07     1.491584e+07     1.502745e+07   \n",
       "North America     1.500740e+07     1.485591e+07     1.425960e+07   \n",
       "Oceania           2.046386e+06     1.910149e+06     1.756664e+06   \n",
       "South America     3.120119e+07     3.082357e+07     2.950960e+07   \n",
       "\n",
       "               2010 Population  2000 Population  1990 Population  \\\n",
       "Continent                                                          \n",
       "Africa            1.889820e+07     1.459837e+07     1.137696e+07   \n",
       "Asia              8.908777e+07     8.058084e+07     4.864000e+07   \n",
       "Europe            1.471228e+07     1.481769e+07     1.478520e+07   \n",
       "North America     1.356802e+07     1.215174e+07     1.053166e+07   \n",
       "Oceania           1.613164e+06     1.357512e+06     1.162775e+06   \n",
       "South America     2.678940e+07     2.501589e+07     2.122474e+07   \n",
       "\n",
       "               1980 Population  1970 Population  World Population Percentage  \n",
       "Continent                                                                     \n",
       "Africa            8.586032e+06     6.567175e+06                     0.313509  \n",
       "Asia              4.027833e+07     4.383988e+07                     1.183800  \n",
       "Europe            1.420000e+07     1.311848e+07                     0.186600  \n",
       "North America     9.207334e+06     7.885865e+06                     0.187750  \n",
       "Oceania           9.965322e+05     8.469683e+05                     0.023913  \n",
       "South America     1.727064e+07     1.378194e+07                     0.391429  "
      ]
     },
     "execution_count": 13,
     "metadata": {},
     "output_type": "execute_result"
    }
   ],
   "source": [
    "pop_cols=[col for col in world.columns if \"Population\" in col]\n",
    "cont_pop=world.groupby('Continent')[pop_cols].mean()\n",
    "cont_pop"
   ]
  },
  {
   "cell_type": "code",
   "execution_count": 15,
   "id": "43507ad5",
   "metadata": {},
   "outputs": [
    {
     "data": {
      "text/plain": [
       "<AxesSubplot:>"
      ]
     },
     "execution_count": 15,
     "metadata": {},
     "output_type": "execute_result"
    },
    {
     "data": {
      "image/png": "[encoded data removed]",
      "text/plain": [
       "<Figure size 864x576 with 1 Axes>"
      ]
     },
     "metadata": {
      "needs_background": "light"
     },
     "output_type": "display_data"
    }
   ],
   "source": [
    "world.groupby('Continent').mean().T.boxplot(figsize=(12,8),vert=False)"
   ]
  },
  {
   "cell_type": "code",
   "execution_count": 17,
   "id": "2a53b1a1",
   "metadata": {},
   "outputs": [
    {
     "data": {
      "text/plain": [
       "<AxesSubplot:>"
      ]
     },
     "execution_count": 17,
     "metadata": {},
     "output_type": "execute_result"
    },
    {
     "data": {
      "image/png": "[encoded data removed]",
      "text/plain": [
       "<Figure size 1440x720 with 1 Axes>"
      ]
     },
     "metadata": {
      "needs_background": "light"
     },
     "output_type": "display_data"
    }
   ],
   "source": [
    "world.boxplot(figsize=(20,10))"
   ]
  }
 ],
 "metadata": {
  "kernelspec": {
   "display_name": "Python 3 (ipykernel)",
   "language": "python",
   "name": "python3"
  },
  "language_info": {
   "codemirror_mode": {
    "name": "ipython",
    "version": 3
   },
   "file_extension": ".py",
   "mimetype": "text/x-python",
   "name": "python",
   "nbconvert_exporter": "python",
   "pygments_lexer": "ipython3",
   "version": "3.9.12"
  }
 },
 "nbformat": 4,
 "nbformat_minor": 5
}
